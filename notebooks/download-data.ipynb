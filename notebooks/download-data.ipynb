{
 "cells": [
  {
   "cell_type": "code",
   "execution_count": 15,
   "id": "6b73a6cb-d918-4253-8167-ad59a3dcecb3",
   "metadata": {},
   "outputs": [],
   "source": [
    "import os\n",
    "from kaggle.api.kaggle_api_extended import KaggleApi\n",
    "import zipfile"
   ]
  },
  {
   "cell_type": "code",
   "execution_count": 16,
   "id": "28495da2-39ae-4f92-aea9-30cf5e4f21bc",
   "metadata": {},
   "outputs": [
    {
     "name": "stdout",
     "output_type": "stream",
     "text": [
      "C:\\Users\\ramir/.kaggle/kaggle.json\n"
     ]
    }
   ],
   "source": [
    "print(os.path.expanduser('~/.kaggle/kaggle.json'))"
   ]
  },
  {
   "cell_type": "code",
   "execution_count": 17,
   "id": "504efea7-3933-43e2-82d7-84e77dbd0375",
   "metadata": {},
   "outputs": [],
   "source": [
    "# Set up your Kaggle credentials\n",
    "api = KaggleApi()\n",
    "api.authenticate()"
   ]
  },
  {
   "cell_type": "code",
   "execution_count": 18,
   "id": "8a4012c4-04c7-43b0-82be-dfd2d85b6a2d",
   "metadata": {},
   "outputs": [],
   "source": [
    "# Define the dataset name\n",
    "dataset_name = 'instacart-market-basket-analysis'"
   ]
  },
  {
   "cell_type": "code",
   "execution_count": 19,
   "id": "edfe4cec-ff42-4fdc-82e6-939f7458bcd2",
   "metadata": {},
   "outputs": [],
   "source": [
    "# Define the download and extraction paths\n",
    "download_path = '../data/download'  # Replace with your desired download path\n",
    "\n",
    "# Download the dataset files\n",
    "api.competition_download_files(dataset_name, path=download_path)\n",
    "\n",
    "zip_file_path = os.path.join(download_path, f'{dataset_name}.zip')\n",
    "\n",
    "with zipfile.ZipFile(zip_file_path, 'r') as zip_ref:\n",
    "    zip_ref.extractall(download_path)\n",
    "\n",
    "# Remove the zip file\n",
    "os.remove(zip_file_path)"
   ]
  },
  {
   "cell_type": "code",
   "execution_count": 20,
   "id": "5a28dff1-4531-4a99-9b60-bc993a3ed8f5",
   "metadata": {},
   "outputs": [],
   "source": [
    "for file_name in os.listdir(download_path):\n",
    "    file_path = os.path.join(download_path, file_name)\n",
    "\n",
    "    # Check if the file is a zip file\n",
    "    if zipfile.is_zipfile(file_path):\n",
    "        with zipfile.ZipFile(file_path, 'r') as zip_ref:\n",
    "            # Extract the contents of the zip file to the same directory\n",
    "            zip_ref.extractall(download_path)\n",
    "\n",
    "        # Remove the zip file after extraction (optional)\n",
    "        os.remove(file_path)"
   ]
  },
  {
   "cell_type": "code",
   "execution_count": null,
   "id": "0d9867f2-af33-4880-8da7-106341598872",
   "metadata": {},
   "outputs": [],
   "source": []
  },
  {
   "cell_type": "code",
   "execution_count": null,
   "id": "277168c7-3cdb-4adb-b722-1971996b1bee",
   "metadata": {},
   "outputs": [],
   "source": []
  },
  {
   "cell_type": "code",
   "execution_count": null,
   "id": "3aaa6daf-e4d5-4e7e-8c94-ac7c3e04b480",
   "metadata": {},
   "outputs": [],
   "source": []
  }
 ],
 "metadata": {
  "kernelspec": {
   "display_name": "Python 3 (ipykernel)",
   "language": "python",
   "name": "python3"
  },
  "language_info": {
   "codemirror_mode": {
    "name": "ipython",
    "version": 3
   },
   "file_extension": ".py",
   "mimetype": "text/x-python",
   "name": "python",
   "nbconvert_exporter": "python",
   "pygments_lexer": "ipython3",
   "version": "3.10.11"
  }
 },
 "nbformat": 4,
 "nbformat_minor": 5
}
